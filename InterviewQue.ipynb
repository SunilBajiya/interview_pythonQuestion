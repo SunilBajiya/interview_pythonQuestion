{
 "cells": [
  {
   "cell_type": "markdown",
   "id": "ce88557c-5b6f-4734-b66f-ceb2508c2193",
   "metadata": {},
   "source": [
    "Check the number is aramstrong or not \n"
   ]
  },
  {
   "cell_type": "code",
   "execution_count": null,
   "id": "3d4125e4-d6da-495f-8f9b-3eeb8aa4080a",
   "metadata": {},
   "outputs": [],
   "source": [
    "num=int(input(\"enter the number\"))\n",
    "sum=0\n",
    "temp = num # it is used for the copy of the original data if run the loop and the original values are changed \n",
    "while(num>0): #this the number is not be zero \n",
    "    rem= num%10  # reminder is that ex. 153%10 = 3 digits \n",
    "    sum = sum+rem**2*rem\n",
    "    num = num//10\n",
    "if(temp == sum):\n",
    "    print(\"The number is armstrong \")\n",
    "else:\n",
    "    print(\"The number is not armstrong\")\n",
    "    \n"
   ]
  },
  {
   "cell_type": "markdown",
   "id": "b810526b-4518-48e4-959c-c67383d60e2a",
   "metadata": {},
   "source": []
  },
  {
   "cell_type": "markdown",
   "id": "d51f5f0b-35b0-47f3-878f-aa41fbbf419d",
   "metadata": {},
   "source": [
    "**Binary search in python**"
   ]
  },
  {
   "cell_type": "code",
   "execution_count": null,
   "id": "14178f13-439e-4d64-a567-ebae3da0de96",
   "metadata": {},
   "outputs": [],
   "source": [
    "arr=[2,4,5,7,8,9,10,43,45,76,88,89]\n",
    "#print(type(arr))\n",
    "# used the range function \n",
    "start=0\n",
    "target=5\n",
    "end = len(arr)-1\n",
    "#print(arr[start]) # ->2 postion 0 \n",
    "#print(arr[end]) # ->89 postion last n-1 \n",
    "mid = (start+end)//2\n",
    "#print(arr[mid])\n",
    "#for i in range(0, len(arr)):\n",
    "while(start<end): # till end when end is big the of start\n",
    "    if (arr[i]==target):\n",
    "        print(\"index postion \",i,\" at presents\",arr[i], \"target element\")\n",
    "        break\n",
    "    elif(arr[mid]>target):\n",
    "         mid = mid+1\n",
    "    else:\n",
    "        mid= mid-1\n",
    "if target not in arr:\n",
    "    print(\"the target element not present in given data\")\n",
    "    \n"
   ]
  },
  {
   "cell_type": "raw",
   "id": "8910d078-7949-4df3-84e1-4dac6a2aed8a",
   "metadata": {},
   "source": []
  },
  {
   "cell_type": "code",
   "execution_count": null,
   "id": "6f634206-1346-442a-8417-a758fb12cb4c",
   "metadata": {},
   "outputs": [],
   "source": [
    "data=[10,23,34,35,46,7,33,423]\n",
    "start=0\n",
    "end= len(data)-1\n",
    "mid = (start+end)//2\n",
    "print(data[start])\n",
    "print(data[end])\n",
    "print(data[mid])\n",
    "\n"
   ]
  },
  {
   "cell_type": "markdown",
   "id": "963290f1-96a4-40c3-9438-f81046bc93b6",
   "metadata": {},
   "source": [
    "**Bubble Sort in Python**"
   ]
  },
  {
   "cell_type": "code",
   "execution_count": null,
   "id": "25c731ad-b39d-45bd-8ae9-e6d67a27f58c",
   "metadata": {},
   "outputs": [],
   "source": [
    "arr =[10,2,35,5,22,80,100,230]\n",
    "# how to fix the element one compares all the element which is is target element and that is used for the sort the data\n",
    "for i in range(0,1):\n",
    "    print(arr[i],i) # with the index postion\n",
    "    for j in range(i+1,len(arr)): # i+1 is the the i loop will start from the 0 index then the next element is the i+1 postion in \n",
    "        print(arr[i],i)\n",
    "        if(arr[i]>arr[j]):\n",
    "            temp = arr[i]\n",
    "            arr[i]= arr[j]\n",
    "            arr[j]= temp\n",
    "        \n",
    "        \n"
   ]
  },
  {
   "cell_type": "markdown",
   "id": "9ce1e735-9c58-43c0-8d33-dfb518ae22b7",
   "metadata": {},
   "source": [
    "**fibonacci series**"
   ]
  },
  {
   "cell_type": "code",
   "execution_count": null,
   "id": "fd6dc497-47d1-40a4-8690-cbf33211151b",
   "metadata": {},
   "outputs": [],
   "source": [
    "#define the series that combination of the past two value and sum is third values\n",
    "num=10 \n",
    "n1=0\n",
    "n2=1\n",
    "data=[]\n",
    "print(\"fibonnacci series:-\")\n",
    "print(n1,n2,end=\" \\n\")\n",
    "for i in range(1,num+1):\n",
    "    n3= n1+n2\n",
    "    print(n3)\n",
    "    n1=n2\n",
    "    n2=n3\n"
   ]
  },
  {
   "cell_type": "markdown",
   "id": "32c8e42e-9ac4-45c7-80db-bbf65d52df36",
   "metadata": {},
   "source": [
    "**concept program in python**"
   ]
  },
  {
   "cell_type": "code",
   "execution_count": 132,
   "id": "d740cdb3-6679-4d95-ae5e-adddb9638e53",
   "metadata": {},
   "outputs": [
    {
     "name": "stdin",
     "output_type": "stream",
     "text": [
      "enter the number 23\n"
     ]
    },
    {
     "ename": "KeyboardInterrupt",
     "evalue": "",
     "output_type": "error",
     "traceback": [
      "\u001b[1;31m---------------------------------------------------------------------------\u001b[0m",
      "\u001b[1;31mKeyboardInterrupt\u001b[0m                         Traceback (most recent call last)",
      "Cell \u001b[1;32mIn[132], line 7\u001b[0m\n\u001b[0;32m      5\u001b[0m count\u001b[38;5;241m=\u001b[39m\u001b[38;5;241m1\u001b[39m\n\u001b[0;32m      6\u001b[0m flage\u001b[38;5;241m=\u001b[39m\u001b[38;5;241m1\u001b[39m\n\u001b[1;32m----> 7\u001b[0m \u001b[38;5;28;01mwhile\u001b[39;00m(flage\u001b[38;5;241m==\u001b[39m\u001b[38;5;241m1\u001b[39m):\n\u001b[0;32m      8\u001b[0m     \u001b[38;5;28;01mif\u001b[39;00m (num\u001b[38;5;241m==\u001b[39m\u001b[38;5;241m0\u001b[39m):\n\u001b[0;32m      9\u001b[0m         \u001b[38;5;28;01mcontinue\u001b[39;00m\n",
      "\u001b[1;31mKeyboardInterrupt\u001b[0m: "
     ]
    }
   ],
   "source": [
    "# the concept program means sum and count the digitis from (starting with any value and ending with 999\n",
    "\n",
    "num=int(input(\"enter the number\"))\n",
    "sum=0\n",
    "count=1\n",
    "flage=1\n",
    "while(flage==1):\n",
    "    if (num==0):\n",
    "        continue\n",
    "\n",
    "    elif(num!=999):\n",
    "        sum = sum+num\n",
    "        count+=1  \n",
    "    else:\n",
    "        flag=0\n",
    "print(\"sum of digits\",sum)\n",
    "        "
   ]
  },
  {
   "cell_type": "markdown",
   "id": "8777f65c-b267-4013-be0a-7c56b792a963",
   "metadata": {},
   "source": [
    "**Digits count in between Range**"
   ]
  },
  {
   "cell_type": "code",
   "execution_count": 11,
   "id": "3210427e-a116-4707-bb69-45ada780fbdd",
   "metadata": {},
   "outputs": [
    {
     "name": "stdout",
     "output_type": "stream",
     "text": [
      "total digits  5\n"
     ]
    }
   ],
   "source": [
    "num=21093\n",
    "count=0\n",
    "while(num!=0):\n",
    "    count+=1\n",
    "    num=num//10  #2109 remaingin each times\n",
    "\n",
    "print(\"total digits \",count)"
   ]
  },
  {
   "cell_type": "code",
   "execution_count": 3,
   "id": "6d80b7c8-ea70-4ca5-ab51-4ee66611d5a7",
   "metadata": {},
   "outputs": [
    {
     "data": {
      "text/plain": [
       "3"
      ]
     },
     "execution_count": 3,
     "metadata": {},
     "output_type": "execute_result"
    }
   ],
   "source": []
  },
  {
   "cell_type": "markdown",
   "id": "4aef1b23-e5bd-419d-a7f6-6a353bceb7f1",
   "metadata": {},
   "source": [
    "**Linear search **\n",
    "simle aproach used the linear search - have a target element and given in array , find the index postion of the elements arr[i]== target element found Brack .\n",
    "other chack the target has present or not \n"
   ]
  },
  {
   "cell_type": "code",
   "execution_count": 22,
   "id": "3535dc1d-9271-4fc3-83b6-3fc61bdfe557",
   "metadata": {},
   "outputs": [
    {
     "name": "stdout",
     "output_type": "stream",
     "text": [
      "the target element not present in array\n"
     ]
    }
   ],
   "source": [
    "# arr no need to be sorted ithking\n",
    "arr=[12,23,56,32,65,58,67,278]\n",
    "search =2\n",
    "indicator=0\n",
    "for i in range(0,len(arr)):\n",
    "    if(arr[i]==search):\n",
    "        print(\"the target search at index postion\",i)\n",
    "        indicator=1\n",
    "if(indicator==0):\n",
    "    print(\"the target element not present in array\")"
   ]
  },
  {
   "cell_type": "code",
   "execution_count": 25,
   "id": "5d7ddf44-0eac-4112-a5f7-ab775a0fac73",
   "metadata": {},
   "outputs": [
    {
     "name": "stdin",
     "output_type": "stream",
     "text": [
      " 1 2 3 43 5 53 56 76 \n"
     ]
    },
    {
     "name": "stdout",
     "output_type": "stream",
     "text": [
      "['1', '2', '3', '43', '5', '53', '56', '76']\n"
     ]
    }
   ],
   "source": [
    "inputs = [i for i in input().split()]\n",
    "print(inputs)"
   ]
  },
  {
   "cell_type": "markdown",
   "id": "390c891d-0bed-4e6a-a711-d9641bcaecd7",
   "metadata": {},
   "source": [
    "**Matrix multipliations**"
   ]
  },
  {
   "cell_type": "code",
   "execution_count": 131,
   "id": "579f3f39-366d-4796-8c3e-5ea4b5e510c2",
   "metadata": {},
   "outputs": [],
   "source": [
    "# #matrix multiplications in need the 3 bok , one is empty to store the  values\n",
    "\n",
    "# matrixA_row,matrixA_col= int(input(\"enter the row and colums of matrix A \")).split() # it is used for the taking more then two elements at time\n",
    "# matrixB_row,matrixB_col= int(input(\"enter the row and colums of matrix A \")).split() # it is used for the taking more then two elements at time\n"
   ]
  },
  {
   "cell_type": "code",
   "execution_count": 39,
   "id": "e0e389fa-5d9a-4a8d-b06e-0cddf1d12342",
   "metadata": {},
   "outputs": [],
   "source": [
    "#find the minmum and maximum in a array \n",
    "\n",
    "arr=[1,34,45,57]\n",
    "# don't used the revers and sort function to find the direct element used the two pointer approach\n",
    "Maxstart=arr[0]\n",
    "\n",
    "for i in range(0,len(arr)): # to start and check the elemenets -- start the 0 index and end the listLastElements\n",
    "    for j in range(i+1,len(arr)):\n",
    "        if(arr[i]>arr[j]):\n",
    "            arr[i]=Maxstart\n",
    "            print(Maxstart)\n",
    "            break\n",
    "        else:\n",
    "            Maxstart= arr[i]\n",
    "            arr[j]=arr[i]\n",
    "            arr[i]=Maxstart\n",
    "    "
   ]
  },
  {
   "cell_type": "code",
   "execution_count": 130,
   "id": "cf2cec3a-1d06-4177-bb8f-082241abafed",
   "metadata": {},
   "outputs": [
    {
     "name": "stdout",
     "output_type": "stream",
     "text": [
      "-----1 \n",
      "----1 1 \n",
      "---1 2 1 \n",
      "--1 3 3 1 \n",
      "-1 4 6 4 1 \n",
      "[[1], [1, 1], [1, 2, 1], [1, 3, 3, 1], [1, 4, 6, 4, 1]]\n"
     ]
    }
   ],
   "source": [
    "# new list is create the each time to create inside the loop\n",
    "num=5\n",
    "mylist=[]\n",
    "for i in range(0,num):\n",
    "    temp=[]\n",
    "    for j in range(i,num):\n",
    "        print(\"-\",end=\"\")\n",
    "    for k in range(0,i+1):\n",
    "        if(k==0 or k==i):\n",
    "          temp.append(1)\n",
    "          print(1,end=\" \")\n",
    "        else:\n",
    "            data=mylist[i-1][k]+ mylist[i-1][k-1]\n",
    "            temp.append(data)\n",
    "           \n",
    "            print(data,end=\" \")\n",
    "  \n",
    "    #appending the new temp list \n",
    "    mylist.append(temp)\n",
    "    print(\"\")\n",
    "print(mylist)"
   ]
  },
  {
   "cell_type": "code",
   "execution_count": 169,
   "id": "f7ee1db5-c88d-41a3-94cc-a6b4c25167c7",
   "metadata": {},
   "outputs": [
    {
     "name": "stdout",
     "output_type": "stream",
     "text": [
      "{'h': 1, 'e': 5, 'y': 1, 'a': 1, 'r': 1}\n"
     ]
    }
   ],
   "source": [
    "#vowal and consonats \n",
    "# check the which elements are the presents in the list and how many duplicats\n",
    "\n",
    "mydisconary={}\n",
    "count=0\n",
    "for i in \"heyeearee\":\n",
    "    if i in mydisconary:\n",
    "        mydisconary[i]=mydisconary[i]+1\n",
    "    else:\n",
    "       mydisconary[i]=1\n",
    "print(mydisconary)"
   ]
  },
  {
   "cell_type": "code",
   "execution_count": 141,
   "id": "0d179e6d-15bb-4722-b368-819ccdc1c67f",
   "metadata": {},
   "outputs": [
    {
     "name": "stdout",
     "output_type": "stream",
     "text": [
      "After 39 39 [2, 8, 10, 20, 23, 34, 39]\n",
      "the small value of the list  2\n",
      "the small value of the list  39\n"
     ]
    }
   ],
   "source": [
    "mylist=[10,20,8,2,23,34,39,]\n",
    "for i in range(0,len(mylist)):\n",
    "    #print(mylist[i])\n",
    "    for j in range(i+1,len(mylist)):\n",
    "       # print(mylist[i],mylist[j]) # print the index postion \n",
    "        if(mylist[i]>mylist[j]):\n",
    "            temp= mylist[i]\n",
    "            mylist[i]=mylist[j]\n",
    "            mylist[j]=temp\n",
    "print(\"After\",mylist[i],mylist[j],mylist)\n",
    "# print the first maximum value in the list that is last index \n",
    "# minmum value of the list is first index \n",
    "print(\"the small value of the list \",mylist[0])\n",
    "print(\"the small value of the list \",mylist[i])"
   ]
  },
  {
   "cell_type": "code",
   "execution_count": 145,
   "id": "88d972b0-cf42-433a-9f87-cd95059f3337",
   "metadata": {},
   "outputs": [
    {
     "name": "stdout",
     "output_type": "stream",
     "text": [
      "3102\n"
     ]
    }
   ],
   "source": [
    "#max if find in the list\n",
    "\n",
    "# initale zero elements \n",
    "mylist= [10,20,312,3102]\n",
    "max_value=0\n",
    "\n",
    "for i in range(0,len(mylist)):\n",
    "  if( mylist[i]>max_value): # check the mylist mylist element is greater the max value\n",
    "      max_value=mylist[i]\n",
    "print(max_value)"
   ]
  },
  {
   "cell_type": "code",
   "execution_count": 153,
   "id": "da6cc34a-44a8-4a72-a815-5eb83621adbd",
   "metadata": {},
   "outputs": [],
   "source": [
    "# # Q5take a number and check whether its a palindrome or not\n",
    "# # note: Don't use [::-1]\n",
    "\n",
    "\n",
    "# # data=int(input(\"enter the data \"))\n",
    "# n=12321\n",
    "# temp=n\n",
    "# s=0\n",
    "# while(n>0):\n",
    "#     rem=n%10\n",
    "#     s=s*10+rem\n",
    "#     n=n//10\n",
    "# if(temp==n):\n",
    "#     print(\"palindrom number\")\n",
    "# else:\n",
    "#     print(\"not a palindrom\") "
   ]
  },
  {
   "cell_type": "markdown",
   "id": "ef5e878d-750e-4733-8ea7-cdb0f8c128a6",
   "metadata": {},
   "source": [
    "**Check How Arrary is Sorted or not**"
   ]
  },
  {
   "cell_type": "code",
   "execution_count": 1,
   "id": "706fa49e-4f22-494a-813f-c0d1cd10bf4c",
   "metadata": {},
   "outputs": [],
   "source": [
    "def sorted_arr(arr):\n",
    "    n=len(arr)\n",
    "    if n==0 or n==1:\n",
    "        return True\n",
    "    for i in range(0,n-1,2):\n",
    "        if (arr[i]>arr[i+1]):\n",
    "            return False\n",
    "        return True\n",
    "arr=[1,3,5,8,9,11,34]\n",
    "# arr=[1,3,5,8,9,11,34]\n",
    "# indicator=0\n",
    "# for i in range(0,len(arr)):\n",
    "    # if (len(arr)==0 or len(arr)==1):\n",
    "    #     print(\"sorted\")\n",
    "    #     break\n",
    "#     if(arr[i]>arr[i+1]):\n",
    "#          print(\"Not array is shorted...\")\n",
    "#          indicator=1\n",
    "#          break\n",
    "# if (indicator==0):\n",
    "#     print(\"sorted sorted\")    "
   ]
  },
  {
   "cell_type": "code",
   "execution_count": 199,
   "id": "9f8cb594-7626-4544-9fa0-9e3f752e3093",
   "metadata": {},
   "outputs": [],
   "source": [
    "**check the number ocurances in array**"
   ]
  },
  {
   "cell_type": "code",
   "execution_count": 27,
   "id": "b4a6b5d7-b85a-4c58-9996-a18e77e4c10c",
   "metadata": {},
   "outputs": [
    {
     "name": "stdout",
     "output_type": "stream",
     "text": [
      "{1: 2, 2: 2, 3: 1, 4: 1}\n"
     ]
    }
   ],
   "source": [
    "arr=[1,2,2,3,4,1]\n",
    "# n= len(arr)\n",
    "# the range is given and the under the 0-5 length postion which elements are how many times comes\n",
    "\"\"\" 1 -occurens = 2 times \n",
    "2 -occurens = 2 times\n",
    "3 -occurens = 1 times\n",
    "4 -occurens = 1 times\n",
    "5 -occurens = 0 times\n",
    "6 -occurens = 0 times\n",
    "\n",
    "\"\"\"\n",
    "count=1\n",
    "data={}\n",
    "for i in arr:\n",
    "    if i in data:\n",
    "        data[i] = data[i]+1\n",
    "    else:\n",
    "        data[i]=1\n",
    "print(data)"
   ]
  },
  {
   "cell_type": "code",
   "execution_count": 234,
   "id": "5bd5abe8-46d9-4171-8c85-3af1c22d136f",
   "metadata": {},
   "outputs": [],
   "source": []
  },
  {
   "cell_type": "code",
   "execution_count": 238,
   "id": "d6e3ff7b-dd26-4224-abed-415d50521fcf",
   "metadata": {},
   "outputs": [],
   "source": [
    "# find the maximum zeors in the rows ----> given a matrix with the [1,1,0,1]\n",
    "#                                                                   [1,0,1,0]\n",
    "#                                                                   [1,0,0,0]   \n",
    "def max_zeros(max_row):\n",
    "    n = len(matrix)\n",
    "    m= len(matrix[0])\n",
    "    max_row=-1\n",
    "    row=0\n",
    "    col=m-1\n",
    "    while row<n and col>=0:\n",
    "        if matrix[row][col]==0:\n",
    "            max_row=row\n",
    "            col-=1\n",
    "        else:\n",
    "            row+=1\n",
    "    return max_row\n",
    "\n",
    "max_row=[\n",
    "    [1,1,1,0],\n",
    "    [1,1,0,0],\n",
    "    [1,0,0,0]\n",
    "]"
   ]
  },
  {
   "cell_type": "raw",
   "id": "37991cd0-376b-4b39-86ae-ba734aecae27",
   "metadata": {},
   "source": [
    "**reverse numbers**"
   ]
  },
  {
   "cell_type": "code",
   "execution_count": 29,
   "id": "dc9e73a5-40fd-410d-9674-9cf0446dc6af",
   "metadata": {},
   "outputs": [
    {
     "name": "stdout",
     "output_type": "stream",
     "text": [
      "inf\n"
     ]
    }
   ],
   "source": [
    "num=124235\n",
    "sum=0\n",
    "while(num>0):\n",
    "    rem=num%10\n",
    "    sum=sum*10+rem\n",
    "    num=num/10\n",
    "print(sum)"
   ]
  },
  {
   "cell_type": "markdown",
   "id": "d72481fa-968c-4690-a23e-b48b3a5c688e",
   "metadata": {},
   "source": [
    "**reverse the array**"
   ]
  },
  {
   "cell_type": "code",
   "execution_count": 34,
   "id": "edf5b706-a684-4e1b-839b-8bebaa23ef45",
   "metadata": {},
   "outputs": [
    {
     "name": "stdout",
     "output_type": "stream",
     "text": [
      "532421\n"
     ]
    }
   ],
   "source": [
    "num=124235\n",
    "sum=0\n",
    "while(num>0):\n",
    "    rem=num%10\n",
    "    sum=sum*10+rem\n",
    "    num=num//10\n",
    "print(sum)"
   ]
  },
  {
   "cell_type": "code",
   "execution_count": null,
   "id": "1c450e36-cf44-4024-85f8-e738ab0a5c1b",
   "metadata": {},
   "outputs": [],
   "source": []
  },
  {
   "cell_type": "code",
   "execution_count": 35,
   "id": "9bcf6d45-d785-4992-9ea4-c31dd0c745ef",
   "metadata": {},
   "outputs": [
    {
     "name": "stdout",
     "output_type": "stream",
     "text": [
      "---1  \n",
      "--2 3  \n",
      "-4 5 6  \n",
      "7 8 9 10  \n"
     ]
    }
   ],
   "source": [
    "x=1\n",
    "for i in range(1,5):\n",
    "    for s in range(i,4):\n",
    "        print(\"-\",end=\"\")\n",
    "    for j in range(1,i+1):\n",
    "        print(x,end=\" \")\n",
    "        x+=1\n",
    "    print(\" \")"
   ]
  },
  {
   "cell_type": "markdown",
   "id": "62d71aa9-57f1-4aaf-8a06-6c7c402375b4",
   "metadata": {},
   "source": [
    "** selection sort**"
   ]
  },
  {
   "cell_type": "code",
   "execution_count": 4,
   "id": "3372ede2-f0c0-4a32-939c-43cdb88b3af8",
   "metadata": {},
   "outputs": [],
   "source": [
    "arr=[21,23,43,57,568,7]\n",
    "for i in range(len(arr)):\n",
    "    min_index=i # now will be 21 then changes \n",
    "    for j in range(i+1,len(arr)):\n",
    "        if(arr[j]<arr[min_index]):\n",
    "            min_index=i\n",
    "    # swap the elments after the comperations \n",
    "    arr[i],arr[min_index]= arr[min_index],arr[i]"
   ]
  },
  {
   "cell_type": "code",
   "execution_count": 7,
   "id": "c58939ce-6cba-4461-991d-c508027756ce",
   "metadata": {},
   "outputs": [
    {
     "name": "stdout",
     "output_type": "stream",
     "text": [
      "2\n"
     ]
    }
   ],
   "source": [
    "data = \"rajrt\"\n",
    "start=0\n",
    "end= len(data)-1\n",
    "count=1\n",
    "while(end>0):\n",
    "    if(data[start]== data[end]):\n",
    "      count+=1\n",
    "    end-=1\n",
    "print(count)"
   ]
  },
  {
   "cell_type": "code",
   "execution_count": 8,
   "id": "e1aaec2b-0aa3-44ff-8403-70f40e2c94ea",
   "metadata": {},
   "outputs": [
    {
     "name": "stdout",
     "output_type": "stream",
     "text": [
      "2 10\n"
     ]
    }
   ],
   "source": [
    "#swap two number withour using third varible used\n",
    "a=10\n",
    "b=2\n",
    "a,b=b,a\n",
    "print(a,b)"
   ]
  },
  {
   "cell_type": "code",
   "execution_count": 9,
   "id": "9accfd0a-52e8-43bf-887d-553b022580b8",
   "metadata": {},
   "outputs": [
    {
     "ename": "TypeError",
     "evalue": "unsupported operand type(s) for +=: 'int' and 'str'",
     "output_type": "error",
     "traceback": [
      "\u001b[1;31m---------------------------------------------------------------------------\u001b[0m",
      "\u001b[1;31mTypeError\u001b[0m                                 Traceback (most recent call last)",
      "Cell \u001b[1;32mIn[9], line 8\u001b[0m\n\u001b[0;32m      6\u001b[0m \u001b[38;5;28;01mwhile\u001b[39;00m(start\u001b[38;5;241m<\u001b[39mend):\n\u001b[0;32m      7\u001b[0m     \u001b[38;5;28;01mif\u001b[39;00m(data[start]\u001b[38;5;241m!=\u001b[39m data[end]):\n\u001b[1;32m----> 8\u001b[0m       \u001b[43mindicator\u001b[49m\u001b[38;5;241;43m+\u001b[39;49m\u001b[38;5;241;43m=\u001b[39;49m\u001b[43mdata\u001b[49m\n\u001b[0;32m      9\u001b[0m \u001b[38;5;28;01mif\u001b[39;00m(indicator\u001b[38;5;241m==\u001b[39m\u001b[38;5;241m0\u001b[39m):\n\u001b[0;32m     10\u001b[0m     \u001b[38;5;28mprint\u001b[39m(\u001b[38;5;124m\"\u001b[39m\u001b[38;5;124mvalue\u001b[39m\u001b[38;5;124m\"\u001b[39m,indicator) \n",
      "\u001b[1;31mTypeError\u001b[0m: unsupported operand type(s) for +=: 'int' and 'str'"
     ]
    }
   ],
   "source": [
    "# the string in character who many time accures\n",
    "data = \"rajrt\"\n",
    "start=0\n",
    "end= len(data)-1\n",
    "indicator=0\n",
    "while(start<end):\n",
    "    if(data[start]!= data[end]):\n",
    "      indicator+=data\n",
    "if(indicator==0):\n",
    "    print(\"value\",indicator) \n",
    "else:\n",
    "    print(\"total \",indicator)"
   ]
  },
  {
   "cell_type": "code",
   "execution_count": null,
   "id": "55d32417-9c7b-4680-9a01-fd8172a1a1aa",
   "metadata": {},
   "outputs": [],
   "source": []
  }
 ],
 "metadata": {
  "kernelspec": {
   "display_name": "Python 3 (ipykernel)",
   "language": "python",
   "name": "python3"
  },
  "language_info": {
   "codemirror_mode": {
    "name": "ipython",
    "version": 3
   },
   "file_extension": ".py",
   "mimetype": "text/x-python",
   "name": "python",
   "nbconvert_exporter": "python",
   "pygments_lexer": "ipython3",
   "version": "3.12.5"
  }
 },
 "nbformat": 4,
 "nbformat_minor": 5
}
