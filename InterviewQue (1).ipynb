{
 "cells": [
  {
   "cell_type": "markdown",
   "id": "ce88557c-5b6f-4734-b66f-ceb2508c2193",
   "metadata": {},
   "source": [
    "Check the number is aramstrong or not \n"
   ]
  },
  {
   "cell_type": "code",
   "execution_count": 41,
   "id": "3d4125e4-d6da-495f-8f9b-3eeb8aa4080a",
   "metadata": {},
   "outputs": [
    {
     "name": "stdin",
     "output_type": "stream",
     "text": [
      "enter the number 231\n"
     ]
    },
    {
     "name": "stdout",
     "output_type": "stream",
     "text": [
      "The number is not armstrong\n"
     ]
    }
   ],
   "source": [
    "num=int(input(\"enter the number\"))\n",
    "sum=0\n",
    "temp = num # it is used for the copy of the original data if run the loop and the original values are changed \n",
    "while(num>0): #this the number is not be zero \n",
    "    rem= num%10  # reminder is that ex. 153%10 = 3 digits \n",
    "    sum = sum+rem**2*rem\n",
    "    num = num//10\n",
    "if(temp == sum):\n",
    "    print(\"The number is armstrong \")\n",
    "else:\n",
    "    print(\"The number is not armstrong\")\n",
    "    \n"
   ]
  },
  {
   "cell_type": "markdown",
   "id": "b810526b-4518-48e4-959c-c67383d60e2a",
   "metadata": {},
   "source": []
  },
  {
   "cell_type": "markdown",
   "id": "d51f5f0b-35b0-47f3-878f-aa41fbbf419d",
   "metadata": {},
   "source": [
    "**Binary search in python**"
   ]
  },
  {
   "cell_type": "code",
   "execution_count": null,
   "id": "14178f13-439e-4d64-a567-ebae3da0de96",
   "metadata": {},
   "outputs": [],
   "source": [
    "arr=[2,4,5,7,8,9,10,43,45,76,88,89]\n",
    "#print(type(arr))\n",
    "# used the range function \n",
    "start=0\n",
    "target=5\n",
    "end = len(arr)-1\n",
    "#print(arr[start]) # ->2 postion 0 \n",
    "#print(arr[end]) # ->89 postion last n-1 \n",
    "mid = (start+end)//2\n",
    "#print(arr[mid])\n",
    "#for i in range(0, len(arr)):\n",
    "while(start<end): # till end when end is big the of start\n",
    "    if (arr[i]==target):\n",
    "        print(\"index postion \",i,\" at presents\",arr[i], \"target element\")\n",
    "        break\n",
    "    elif(arr[mid]>target):\n",
    "         mid = mid+1\n",
    "    else:\n",
    "        mid= mid-1\n",
    "if target not in arr:\n",
    "    print(\"the target element not present in given data\")\n",
    "    \n"
   ]
  },
  {
   "cell_type": "raw",
   "id": "8910d078-7949-4df3-84e1-4dac6a2aed8a",
   "metadata": {},
   "source": []
  },
  {
   "cell_type": "code",
   "execution_count": 42,
   "id": "6f634206-1346-442a-8417-a758fb12cb4c",
   "metadata": {},
   "outputs": [
    {
     "name": "stdout",
     "output_type": "stream",
     "text": [
      "10\n",
      "423\n",
      "35\n"
     ]
    }
   ],
   "source": [
    "data=[10,23,34,35,46,7,33,423]\n",
    "start=0\n",
    "end= len(data)-1\n",
    "mid = (start+end)//2\n",
    "print(data[start])\n",
    "print(data[end])\n",
    "print(data[mid])\n",
    "\n"
   ]
  },
  {
   "cell_type": "markdown",
   "id": "963290f1-96a4-40c3-9438-f81046bc93b6",
   "metadata": {},
   "source": [
    "**Bubble Sort in Python**"
   ]
  },
  {
   "cell_type": "code",
   "execution_count": 57,
   "id": "25c731ad-b39d-45bd-8ae9-e6d67a27f58c",
   "metadata": {},
   "outputs": [
    {
     "name": "stdout",
     "output_type": "stream",
     "text": [
      "2\n",
      "5\n",
      "10\n",
      "22\n",
      "35\n",
      "80\n",
      "100\n",
      "230\n"
     ]
    }
   ],
   "source": [
    "arr =[10,2,35,5,22,80,100,230]\n",
    "# how to fix the element one compares all the element which is is target element and that is used for the sort the data\n",
    "for i in range(0,len(arr)):\n",
    "   # with the index postion\n",
    "    for j in range(i+1,len(arr)): # i+1 is the the i loop will start from the 0 index then the next element is the i+1 postion in \n",
    "      \n",
    "        if(arr[i]>arr[j]):\n",
    "            # temp = arr[i]\n",
    "            # arr[i]= arr[j]\n",
    "            # arr[j]= temp\n",
    "            arr[i],arr[j]= arr[j],arr[i]\n",
    "    print(arr[i])\n",
    "        \n"
   ]
  },
  {
   "cell_type": "code",
   "execution_count": 64,
   "id": "9dcb7994-1817-4790-9513-95d590372527",
   "metadata": {},
   "outputs": [
    {
     "name": "stdout",
     "output_type": "stream",
     "text": [
      "45\n",
      "11\n",
      "65\n",
      "11\n",
      "43\n",
      "11\n",
      "64\n",
      "11\n",
      "76\n",
      "11\n",
      "94\n",
      "11\n",
      "65\n",
      "45\n",
      "43\n",
      "45\n",
      "43\n",
      "45\n",
      "43\n",
      "45\n",
      "43\n"
     ]
    },
    {
     "ename": "IndexError",
     "evalue": "list index out of range",
     "output_type": "error",
     "traceback": [
      "\u001b[1;31m---------------------------------------------------------------------------\u001b[0m",
      "\u001b[1;31mIndexError\u001b[0m                                Traceback (most recent call last)",
      "Cell \u001b[1;32mIn[64], line 7\u001b[0m\n\u001b[0;32m      5\u001b[0m \u001b[38;5;28mprint\u001b[39m(arr[j])\n\u001b[0;32m      6\u001b[0m \u001b[38;5;28;01mif\u001b[39;00m (arr[i]\u001b[38;5;241m>\u001b[39marr[j]):\n\u001b[1;32m----> 7\u001b[0m     arr[j],arr[j\u001b[38;5;241m+\u001b[39m\u001b[38;5;241m1\u001b[39m] \u001b[38;5;241m=\u001b[39m\u001b[43marr\u001b[49m\u001b[43m[\u001b[49m\u001b[43mj\u001b[49m\u001b[38;5;241;43m+\u001b[39;49m\u001b[38;5;241;43m1\u001b[39;49m\u001b[43m]\u001b[49m,arr[j]\n\u001b[0;32m      8\u001b[0m \u001b[38;5;28mprint\u001b[39m(arr[i])\n",
      "\u001b[1;31mIndexError\u001b[0m: list index out of range"
     ]
    }
   ],
   "source": [
    "arr=[11,45,65,43,64,76,94]\n",
    "for i in range(0,len(arr)):\n",
    "    # run only for -11\n",
    "    for j in range(i+1,len(arr)):\n",
    "        print(arr[j])\n",
    "        if (arr[i]>arr[j]):\n",
    "            arr[j],arr[j+1] =arr[j+1],arr[j]\n",
    "        print(arr[i])\n",
    "            "
   ]
  },
  {
   "cell_type": "markdown",
   "id": "9ce1e735-9c58-43c0-8d33-dfb518ae22b7",
   "metadata": {},
   "source": [
    "**fibonacci series**"
   ]
  },
  {
   "cell_type": "code",
   "execution_count": null,
   "id": "61d273f5-c764-49c3-864b-3d92c4a8ae50",
   "metadata": {},
   "outputs": [],
   "source": []
  },
  {
   "cell_type": "code",
   "execution_count": null,
   "id": "fd6dc497-47d1-40a4-8690-cbf33211151b",
   "metadata": {},
   "outputs": [],
   "source": [
    "#define the series that combination of the past two value and sum is third values\n",
    "num=10 \n",
    "n1=0\n",
    "n2=1\n",
    "data=[]\n",
    "print(\"fibonnacci series:-\")\n",
    "print(n1,n2,end=\" \\n\")\n",
    "for i in range(1,num+1):\n",
    "    n3= n1+n2\n",
    "    print(n3)\n",
    "    n1=n2\n",
    "    n2=n3\n"
   ]
  },
  {
   "cell_type": "markdown",
   "id": "32c8e42e-9ac4-45c7-80db-bbf65d52df36",
   "metadata": {},
   "source": [
    "**concept program in python**"
   ]
  },
  {
   "cell_type": "code",
   "execution_count": 65,
   "id": "d740cdb3-6679-4d95-ae5e-adddb9638e53",
   "metadata": {},
   "outputs": [
    {
     "name": "stdin",
     "output_type": "stream",
     "text": [
      "enter the number 423\n"
     ]
    },
    {
     "ename": "KeyboardInterrupt",
     "evalue": "",
     "output_type": "error",
     "traceback": [
      "\u001b[1;31m---------------------------------------------------------------------------\u001b[0m",
      "\u001b[1;31mKeyboardInterrupt\u001b[0m                         Traceback (most recent call last)",
      "Cell \u001b[1;32mIn[65], line 7\u001b[0m\n\u001b[0;32m      5\u001b[0m count\u001b[38;5;241m=\u001b[39m\u001b[38;5;241m1\u001b[39m\n\u001b[0;32m      6\u001b[0m flage\u001b[38;5;241m=\u001b[39m\u001b[38;5;241m1\u001b[39m\n\u001b[1;32m----> 7\u001b[0m \u001b[38;5;28;01mwhile\u001b[39;00m(flage\u001b[38;5;241m==\u001b[39m\u001b[38;5;241m1\u001b[39m):\n\u001b[0;32m      8\u001b[0m     \u001b[38;5;28;01mif\u001b[39;00m (num\u001b[38;5;241m==\u001b[39m\u001b[38;5;241m0\u001b[39m):\n\u001b[0;32m      9\u001b[0m         \u001b[38;5;28;01mcontinue\u001b[39;00m\n",
      "\u001b[1;31mKeyboardInterrupt\u001b[0m: "
     ]
    }
   ],
   "source": [
    "# the concept program means sum and count the digitis from (starting with any value and ending with 999\n",
    "\n",
    "num=int(input(\"enter the number\"))\n",
    "sum=0\n",
    "count=1\n",
    "flage=1\n",
    "while(flage==1):\n",
    "    if (num==0):\n",
    "        continue\n",
    "\n",
    "    elif(num!=999):\n",
    "        sum = sum+num\n",
    "        count+=1  \n",
    "    else:\n",
    "        flag=0\n",
    "print(\"sum of digits\",sum)\n",
    "        "
   ]
  },
  {
   "cell_type": "markdown",
   "id": "8777f65c-b267-4013-be0a-7c56b792a963",
   "metadata": {},
   "source": [
    "**Digits count in between Range**"
   ]
  },
  {
   "cell_type": "code",
   "execution_count": 66,
   "id": "3210427e-a116-4707-bb69-45ada780fbdd",
   "metadata": {},
   "outputs": [
    {
     "name": "stdout",
     "output_type": "stream",
     "text": [
      "total digits  5\n"
     ]
    }
   ],
   "source": [
    "num=2109335\n",
    "count=0\n",
    "while(num!=0):\n",
    "    count+=1\n",
    "    num=num//10  #2109 remaingin each times\n",
    "\n",
    "print(\"total digits \",count)"
   ]
  },
  {
   "cell_type": "code",
   "execution_count": 72,
   "id": "6d80b7c8-ea70-4ca5-ab51-4ee66611d5a7",
   "metadata": {},
   "outputs": [
    {
     "name": "stdin",
     "output_type": "stream",
     "text": [
      "enter the number 1\n",
      "enter the numer 24\n"
     ]
    },
    {
     "name": "stdout",
     "output_type": "stream",
     "text": [
      "hcf  1\n",
      "lcf 24\n"
     ]
    }
   ],
   "source": [
    "#find the hcf and lcf in two gien number\n",
    "a=int(input(\"enter the number\"))\n",
    "b=int(input(\"enter the numer\"))\n",
    "hcf= 1\n",
    "for i in range(1,max(a,b)): # start from the zero and tile the end of the \n",
    "    if(a%i==0 and b%i==0):\n",
    "        hcf=i\n",
    "lcf= (a*b)//hcf\n",
    "print(\"hcf \",hcf)\n",
    "print(\"lcf\",lcf)"
   ]
  },
  {
   "cell_type": "markdown",
   "id": "80acdfa4-bf99-4ab6-889e-e45dfffb8459",
   "metadata": {},
   "source": [
    "**String checks palindroms or not **"
   ]
  },
  {
   "cell_type": "code",
   "execution_count": 81,
   "id": "1874b301-4467-486f-bd12-495ac2ab115c",
   "metadata": {},
   "outputs": [
    {
     "ename": "SyntaxError",
     "evalue": "incomplete input (215020478.py, line 6)",
     "output_type": "error",
     "traceback": [
      "\u001b[1;36m  Cell \u001b[1;32mIn[81], line 6\u001b[1;36m\u001b[0m\n\u001b[1;33m    \u001b[0m\n\u001b[1;37m    ^\u001b[0m\n\u001b[1;31mSyntaxError\u001b[0m\u001b[1;31m:\u001b[0m incomplete input\n"
     ]
    }
   ],
   "source": [
    "name=\"malayalam\"\n",
    "st=0\n",
    "ed=len(name)-1\n",
    "indicator=0\n",
    "while(start<end):\n",
    "    "
   ]
  },
  {
   "cell_type": "code",
   "execution_count": 87,
   "id": "d02705bd-c380-4db3-a303-d4e2f6d34872",
   "metadata": {},
   "outputs": [
    {
     "name": "stdout",
     "output_type": "stream",
     "text": [
      "----* \n",
      "---*** \n",
      "--***** \n",
      "-******* \n",
      "********* \n"
     ]
    }
   ],
   "source": [
    "for i in range(1,6):\n",
    "    for s in range(i,5):\n",
    "        print(\"-\",end=\"\")\n",
    "    for j in range(1,2*i):\n",
    "        print(\"*\",end=\"\")\n",
    "    print(\" \")"
   ]
  },
  {
   "cell_type": "code",
   "execution_count": 192,
   "id": "b63a14b8-7480-474d-9e91-5ce68905669a",
   "metadata": {},
   "outputs": [
    {
     "name": "stdout",
     "output_type": "stream",
     "text": [
      "***** \n",
      "-*** \n",
      "--* \n",
      "--- \n",
      "---- \n",
      "----- \n"
     ]
    }
   ],
   "source": [
    "num=6\n",
    "for i in range(1,num+1):\n",
    "    for s in range(1,i):\n",
    "        print(\"-\",end=\"\")\n",
    "    for j in range(2*i-1,num):\n",
    "        print(\"*\",end=\"\")\n",
    "    print(\" \")"
   ]
  },
  {
   "cell_type": "code",
   "execution_count": 115,
   "id": "aed7b8da-f814-48d1-b990-b75d6825ab01",
   "metadata": {},
   "outputs": [
    {
     "name": "stdin",
     "output_type": "stream",
     "text": [
      "enter the number for check the number is prime or not  36\n"
     ]
    },
    {
     "name": "stdout",
     "output_type": "stream",
     "text": [
      "prime number this 36\n"
     ]
    }
   ],
   "source": [
    "num=int(input(\"enter the number for check the number is prime or not \"))\n",
    "# some thik about the prime number that number is prime which is divided with the self and possible the factor the nunbers\n",
    "\n",
    "# finded the prime number form the 1 to 100  prime the prim numbers\n",
    "indicator =0\n",
    "if num==0 or num==1:\n",
    "    indicator =0 # have no change the indicator because the 1 is divided all the numbers\n",
    "for i in range(2,num):\n",
    "    if (num%i==0):\n",
    "        print(\"prime number this\",num)\n",
    "        indicator =1\n",
    "        break\n",
    "if(indicator==0):\n",
    "    print(\"number is not prime because not factors posibles \",num)"
   ]
  },
  {
   "cell_type": "code",
   "execution_count": 162,
   "id": "85b33b1c-50c6-463d-9da8-39e54893a923",
   "metadata": {},
   "outputs": [
    {
     "name": "stdout",
     "output_type": "stream",
     "text": [
      "prime number this 5\n"
     ]
    }
   ],
   "source": [
    "s=1\n",
    "end=101\n",
    "indicator =0\n",
    "if s==0 :\n",
    "    indicator =0 # have no change the indicator because the 1 is divided all the numbers\n",
    "for i in range(s,end):\n",
    "    if (num%i==0):\n",
    "        print(\"prime number this\",num)\n",
    "        indicator =1\n",
    "        break\n",
    "if(indicator==0):\n",
    "    print(\"number is not prime because not factors posibles \",num)"
   ]
  },
  {
   "cell_type": "markdown",
   "id": "4aef1b23-e5bd-419d-a7f6-6a353bceb7f1",
   "metadata": {},
   "source": [
    "**Linear search **\n",
    "simle aproach used the linear search - have a target element and given in array , find the index postion of the elements arr[i]== target element found Brack .\n",
    "other chack the target has present or not \n"
   ]
  },
  {
   "cell_type": "code",
   "execution_count": 22,
   "id": "3535dc1d-9271-4fc3-83b6-3fc61bdfe557",
   "metadata": {},
   "outputs": [
    {
     "name": "stdout",
     "output_type": "stream",
     "text": [
      "the target element not present in array\n"
     ]
    }
   ],
   "source": [
    "# arr no need to be sorted ithking\n",
    "arr=[12,23,56,32,65,58,67,278]\n",
    "search =2\n",
    "indicator=0\n",
    "for i in range(0,len(arr)):\n",
    "    if(arr[i]==search):\n",
    "        print(\"the target search at index postion\",i)\n",
    "        indicator=1\n",
    "if(indicator==0):\n",
    "    print(\"the target element not present in array\")"
   ]
  },
  {
   "cell_type": "code",
   "execution_count": 25,
   "id": "5d7ddf44-0eac-4112-a5f7-ab775a0fac73",
   "metadata": {},
   "outputs": [
    {
     "name": "stdin",
     "output_type": "stream",
     "text": [
      " 1 2 3 43 5 53 56 76 \n"
     ]
    },
    {
     "name": "stdout",
     "output_type": "stream",
     "text": [
      "['1', '2', '3', '43', '5', '53', '56', '76']\n"
     ]
    }
   ],
   "source": [
    "inputs = [i for i in input().split()]\n",
    "print(inputs)"
   ]
  },
  {
   "cell_type": "markdown",
   "id": "390c891d-0bed-4e6a-a711-d9641bcaecd7",
   "metadata": {},
   "source": [
    "**Matrix multipliations**"
   ]
  },
  {
   "cell_type": "code",
   "execution_count": 131,
   "id": "579f3f39-366d-4796-8c3e-5ea4b5e510c2",
   "metadata": {},
   "outputs": [],
   "source": [
    "# #matrix multiplications in need the 3 bok , one is empty to store the  values\n",
    "\n",
    "# matrixA_row,matrixA_col= int(input(\"enter the row and colums of matrix A \")).split() # it is used for the taking more then two elements at time\n",
    "# matrixB_row,matrixB_col= int(input(\"enter the row and colums of matrix A \")).split() # it is used for the taking more then two elements at time\n"
   ]
  },
  {
   "cell_type": "code",
   "execution_count": 39,
   "id": "e0e389fa-5d9a-4a8d-b06e-0cddf1d12342",
   "metadata": {},
   "outputs": [],
   "source": [
    "#find the minmum and maximum in a array \n",
    "\n",
    "arr=[1,34,45,57]\n",
    "# don't used the revers and sort function to find the direct element used the two pointer approach\n",
    "Maxstart=arr[0]\n",
    "\n",
    "for i in range(0,len(arr)): # to start and check the elemenets -- start the 0 index and end the listLastElements\n",
    "    for j in range(i+1,len(arr)):\n",
    "        if(arr[i]>arr[j]):\n",
    "            arr[i]=Maxstart\n",
    "            print(Maxstart)\n",
    "            break\n",
    "        else:\n",
    "            Maxstart= arr[i]\n",
    "            arr[j]=arr[i]\n",
    "            arr[i]=Maxstart\n",
    "    "
   ]
  },
  {
   "cell_type": "code",
   "execution_count": 124,
   "id": "ea979ab2-39fd-4dd5-9d21-008e0aaf8a94",
   "metadata": {},
   "outputs": [
    {
     "name": "stdout",
     "output_type": "stream",
     "text": [
      "valid bracket\n",
      "you outside the loop\n"
     ]
    }
   ],
   "source": [
    "# valid bracket\n",
    "data=\"(()\"\n",
    "openB=False\n",
    "for char in data: # -> char = ( now\n",
    "    if char==\"(\": # first check the starting with the bracked present \n",
    "        openB= True # indicatos yes presents \n",
    "    else:\n",
    "        if (char==\")\" and openB==True):  # because the bracked start that required the close \n",
    "            print(\"valid bracket\")\n",
    "        else:\n",
    "            print(\"not valid Bracket\")\n",
    "print(\"you outside the loop\")"
   ]
  },
  {
   "cell_type": "code",
   "execution_count": 161,
   "id": "85c69c7b-a963-4537-bc09-398ffdb5c762",
   "metadata": {},
   "outputs": [],
   "source": [
    "# List sorted using the one loops\n",
    "mylist=[4,2,6,3]\n",
    "start= mylist[0]\n",
    "end=len(mylist)-1\n",
    "while(start<end):\n",
    "    if (mylist[start]> mylist[end]):\n",
    "        temp\n",
    "        mylist[start],mylist[end]=mylist[end],mylist[start]\n",
    "        print(mylist[start],mylist[end])\n",
    "    else:\n",
    "        start+=1\n",
    "        \n",
    "        end-=1    "
   ]
  },
  {
   "cell_type": "code",
   "execution_count": 141,
   "id": "cf2cec3a-1d06-4177-bb8f-082241abafed",
   "metadata": {},
   "outputs": [
    {
     "name": "stdout",
     "output_type": "stream",
     "text": [
      "-----1 \n",
      "----1 1 \n",
      "---1 2 1 \n",
      "--1 3 3 1 \n",
      "-1 4 6 4 1 \n"
     ]
    }
   ],
   "source": [
    "# new list is create the each time to create inside the loop\n",
    "num=5\n",
    "mylist=[]\n",
    "for i in range(0,num):\n",
    "    temp=[]\n",
    "    for j in range(i,num):\n",
    "        print(\"-\",end=\"\")\n",
    "    for k in range(0,i+1):\n",
    "        if(k==0 or k==i):\n",
    "          temp.append(1)\n",
    "          print(1,end=\" \")\n",
    "        else:\n",
    "            data=mylist[i-1][k]+ mylist[i-1][k-1]\n",
    "            temp.append(data)\n",
    "           \n",
    "            print(data,end=\" \")\n",
    "  \n",
    "    #appending the new temp list \n",
    "    mylist.append(temp)\n",
    "    print(\"\")\n",
    "# print(mylist)"
   ]
  },
  {
   "cell_type": "code",
   "execution_count": null,
   "id": "e296bf69-043a-49bf-9984-4f92e32f2aa0",
   "metadata": {},
   "outputs": [],
   "source": []
  },
  {
   "cell_type": "code",
   "execution_count": 169,
   "id": "f7ee1db5-c88d-41a3-94cc-a6b4c25167c7",
   "metadata": {},
   "outputs": [
    {
     "name": "stdout",
     "output_type": "stream",
     "text": [
      "{'h': 1, 'e': 5, 'y': 1, 'a': 1, 'r': 1}\n"
     ]
    }
   ],
   "source": [
    "#vowal and consonats \n",
    "# check the which elements are the presents in the list and how many duplicats\n",
    "\n",
    "mydisconary={}\n",
    "count=0\n",
    "for i in \"heyeearee\":\n",
    "    if i in mydisconary:\n",
    "        mydisconary[i]=mydisconary[i]+1\n",
    "    else:\n",
    "       mydisconary[i]=1\n",
    "print(mydisconary)"
   ]
  },
  {
   "cell_type": "code",
   "execution_count": 141,
   "id": "0d179e6d-15bb-4722-b368-819ccdc1c67f",
   "metadata": {},
   "outputs": [
    {
     "name": "stdout",
     "output_type": "stream",
     "text": [
      "After 39 39 [2, 8, 10, 20, 23, 34, 39]\n",
      "the small value of the list  2\n",
      "the small value of the list  39\n"
     ]
    }
   ],
   "source": [
    "mylist=[10,20,8,2,23,34,39,]\n",
    "for i in range(0,len(mylist)):\n",
    "    #print(mylist[i])\n",
    "    for j in range(i+1,len(mylist)):\n",
    "       # print(mylist[i],mylist[j]) # print the index postion \n",
    "        if(mylist[i]>mylist[j]):\n",
    "            temp= mylist[i]\n",
    "            mylist[i]=mylist[j]\n",
    "            mylist[j]=temp\n",
    "print(\"After\",mylist[i],mylist[j],mylist)\n",
    "# print the first maximum value in the list that is last index \n",
    "# minmum value of the list is first index \n",
    "print(\"the small value of the list \",mylist[0])\n",
    "print(\"the small value of the list \",mylist[i])"
   ]
  },
  {
   "cell_type": "code",
   "execution_count": 145,
   "id": "88d972b0-cf42-433a-9f87-cd95059f3337",
   "metadata": {},
   "outputs": [
    {
     "name": "stdout",
     "output_type": "stream",
     "text": [
      "3102\n"
     ]
    }
   ],
   "source": [
    "#max if find in the list\n",
    "\n",
    "# initale zero elements \n",
    "mylist= [10,20,312,3102]\n",
    "max_value=0\n",
    "\n",
    "for i in range(0,len(mylist)):\n",
    "  if( mylist[i]>max_value): # check the mylist mylist element is greater the max value\n",
    "      max_value=mylist[i]\n",
    "print(max_value)"
   ]
  },
  {
   "cell_type": "code",
   "execution_count": 153,
   "id": "da6cc34a-44a8-4a72-a815-5eb83621adbd",
   "metadata": {},
   "outputs": [],
   "source": [
    "# # Q5take a number and check whether its a palindrome or not\n",
    "# # note: Don't use [::-1]\n",
    "\n",
    "\n",
    "# # data=int(input(\"enter the data \"))\n",
    "# n=12321\n",
    "# temp=n\n",
    "# s=0\n",
    "# while(n>0):\n",
    "#     rem=n%10\n",
    "#     s=s*10+rem\n",
    "#     n=n//10\n",
    "# if(temp==n):\n",
    "#     print(\"palindrom number\")\n",
    "# else:\n",
    "#     print(\"not a palindrom\") "
   ]
  },
  {
   "cell_type": "markdown",
   "id": "ef5e878d-750e-4733-8ea7-cdb0f8c128a6",
   "metadata": {},
   "source": [
    "**Check How Arrary is Sorted or not**"
   ]
  },
  {
   "cell_type": "code",
   "execution_count": 1,
   "id": "706fa49e-4f22-494a-813f-c0d1cd10bf4c",
   "metadata": {},
   "outputs": [],
   "source": [
    "def sorted_arr(arr):\n",
    "    n=len(arr)\n",
    "    if n==0 or n==1:\n",
    "        return True\n",
    "    for i in range(0,n-1,2):\n",
    "        if (arr[i]>arr[i+1]):\n",
    "            return False\n",
    "        return True\n",
    "arr=[1,3,5,8,9,11,34]\n",
    "# arr=[1,3,5,8,9,11,34]\n",
    "# indicator=0\n",
    "# for i in range(0,len(arr)):\n",
    "    # if (len(arr)==0 or len(arr)==1):\n",
    "    #     print(\"sorted\")\n",
    "    #     break\n",
    "#     if(arr[i]>arr[i+1]):\n",
    "#          print(\"Not array is shorted...\")\n",
    "#          indicator=1\n",
    "#          break\n",
    "# if (indicator==0):\n",
    "#     print(\"sorted sorted\")    "
   ]
  },
  {
   "cell_type": "code",
   "execution_count": 199,
   "id": "9f8cb594-7626-4544-9fa0-9e3f752e3093",
   "metadata": {},
   "outputs": [],
   "source": [
    "**check the number ocurances in array**"
   ]
  },
  {
   "cell_type": "code",
   "execution_count": 27,
   "id": "b4a6b5d7-b85a-4c58-9996-a18e77e4c10c",
   "metadata": {},
   "outputs": [
    {
     "name": "stdout",
     "output_type": "stream",
     "text": [
      "{1: 2, 2: 2, 3: 1, 4: 1}\n"
     ]
    }
   ],
   "source": [
    "arr=[1,2,2,3,4,1]\n",
    "# n= len(arr)\n",
    "# the range is given and the under the 0-5 length postion which elements are how many times comes\n",
    "\"\"\" 1 -occurens = 2 times \n",
    "2 -occurens = 2 times\n",
    "3 -occurens = 1 times\n",
    "4 -occurens = 1 times\n",
    "5 -occurens = 0 times\n",
    "6 -occurens = 0 times\n",
    "\n",
    "\"\"\"\n",
    "count=1\n",
    "data={}\n",
    "for i in arr:\n",
    "    if i in data:\n",
    "        data[i] = data[i]+1\n",
    "    else:\n",
    "        data[i]=1\n",
    "print(data)"
   ]
  },
  {
   "cell_type": "code",
   "execution_count": 234,
   "id": "5bd5abe8-46d9-4171-8c85-3af1c22d136f",
   "metadata": {},
   "outputs": [],
   "source": []
  },
  {
   "cell_type": "code",
   "execution_count": 238,
   "id": "d6e3ff7b-dd26-4224-abed-415d50521fcf",
   "metadata": {},
   "outputs": [],
   "source": [
    "# find the maximum zeors in the rows ----> given a matrix with the [1,1,0,1]\n",
    "#                                                                   [1,0,1,0]\n",
    "#                                                                   [1,0,0,0]   \n",
    "def max_zeros(max_row):\n",
    "    n = len(matrix)\n",
    "    m= len(matrix[0])\n",
    "    max_row=-1\n",
    "    row=0\n",
    "    col=m-1\n",
    "    while row<n and col>=0:\n",
    "        if matrix[row][col]==0:\n",
    "            max_row=row\n",
    "            col-=1\n",
    "        else:\n",
    "            row+=1\n",
    "    return max_row\n",
    "\n",
    "max_row=[\n",
    "    [1,1,1,0],\n",
    "    [1,1,0,0],\n",
    "    [1,0,0,0]\n",
    "]"
   ]
  },
  {
   "cell_type": "markdown",
   "id": "d72481fa-968c-4690-a23e-b48b3a5c688e",
   "metadata": {},
   "source": [
    "**reverse the array**"
   ]
  },
  {
   "cell_type": "code",
   "execution_count": 34,
   "id": "edf5b706-a684-4e1b-839b-8bebaa23ef45",
   "metadata": {},
   "outputs": [
    {
     "name": "stdout",
     "output_type": "stream",
     "text": [
      "532421\n"
     ]
    }
   ],
   "source": [
    "num=124235\n",
    "sum=0\n",
    "while(num>0):\n",
    "    rem=num%10\n",
    "    sum=sum*10+rem\n",
    "    num=num//10\n",
    "print(sum)"
   ]
  },
  {
   "cell_type": "code",
   "execution_count": null,
   "id": "1c450e36-cf44-4024-85f8-e738ab0a5c1b",
   "metadata": {},
   "outputs": [],
   "source": []
  },
  {
   "cell_type": "code",
   "execution_count": 35,
   "id": "9bcf6d45-d785-4992-9ea4-c31dd0c745ef",
   "metadata": {},
   "outputs": [
    {
     "name": "stdout",
     "output_type": "stream",
     "text": [
      "---1  \n",
      "--2 3  \n",
      "-4 5 6  \n",
      "7 8 9 10  \n"
     ]
    }
   ],
   "source": [
    "x=1\n",
    "for i in range(1,5):\n",
    "    for s in range(i,4):\n",
    "        print(\"-\",end=\"\")\n",
    "    for j in range(1,i+1):\n",
    "        print(x,end=\" \")\n",
    "        x+=1\n",
    "    print(\" \")"
   ]
  },
  {
   "cell_type": "markdown",
   "id": "62d71aa9-57f1-4aaf-8a06-6c7c402375b4",
   "metadata": {},
   "source": [
    "** selection sort**"
   ]
  },
  {
   "cell_type": "code",
   "execution_count": 4,
   "id": "3372ede2-f0c0-4a32-939c-43cdb88b3af8",
   "metadata": {},
   "outputs": [],
   "source": [
    "arr=[21,23,43,57,568,7]\n",
    "for i in range(len(arr)):\n",
    "    min_index=i # now will be 21 then changes \n",
    "    for j in range(i+1,len(arr)):\n",
    "        if(arr[j]<arr[min_index]):\n",
    "            min_index=i\n",
    "    # swap the elments after the comperations \n",
    "    arr[i],arr[min_index]= arr[min_index],arr[i]"
   ]
  },
  {
   "cell_type": "code",
   "execution_count": 7,
   "id": "c58939ce-6cba-4461-991d-c508027756ce",
   "metadata": {},
   "outputs": [
    {
     "name": "stdout",
     "output_type": "stream",
     "text": [
      "2\n"
     ]
    }
   ],
   "source": [
    "data = \"rajrt\"\n",
    "start=0\n",
    "end= len(data)-1\n",
    "count=1\n",
    "while(end>0):\n",
    "    if(data[start]== data[end]):\n",
    "      count+=1\n",
    "    end-=1\n",
    "print(count)"
   ]
  },
  {
   "cell_type": "code",
   "execution_count": 8,
   "id": "e1aaec2b-0aa3-44ff-8403-70f40e2c94ea",
   "metadata": {},
   "outputs": [
    {
     "name": "stdout",
     "output_type": "stream",
     "text": [
      "2 10\n"
     ]
    }
   ],
   "source": [
    "#swap two number withour using third varible used\n",
    "a=10\n",
    "b=2\n",
    "a,b=b,a\n",
    "print(a,b)"
   ]
  },
  {
   "cell_type": "code",
   "execution_count": 9,
   "id": "9accfd0a-52e8-43bf-887d-553b022580b8",
   "metadata": {},
   "outputs": [
    {
     "ename": "TypeError",
     "evalue": "unsupported operand type(s) for +=: 'int' and 'str'",
     "output_type": "error",
     "traceback": [
      "\u001b[1;31m---------------------------------------------------------------------------\u001b[0m",
      "\u001b[1;31mTypeError\u001b[0m                                 Traceback (most recent call last)",
      "Cell \u001b[1;32mIn[9], line 8\u001b[0m\n\u001b[0;32m      6\u001b[0m \u001b[38;5;28;01mwhile\u001b[39;00m(start\u001b[38;5;241m<\u001b[39mend):\n\u001b[0;32m      7\u001b[0m     \u001b[38;5;28;01mif\u001b[39;00m(data[start]\u001b[38;5;241m!=\u001b[39m data[end]):\n\u001b[1;32m----> 8\u001b[0m       \u001b[43mindicator\u001b[49m\u001b[38;5;241;43m+\u001b[39;49m\u001b[38;5;241;43m=\u001b[39;49m\u001b[43mdata\u001b[49m\n\u001b[0;32m      9\u001b[0m \u001b[38;5;28;01mif\u001b[39;00m(indicator\u001b[38;5;241m==\u001b[39m\u001b[38;5;241m0\u001b[39m):\n\u001b[0;32m     10\u001b[0m     \u001b[38;5;28mprint\u001b[39m(\u001b[38;5;124m\"\u001b[39m\u001b[38;5;124mvalue\u001b[39m\u001b[38;5;124m\"\u001b[39m,indicator) \n",
      "\u001b[1;31mTypeError\u001b[0m: unsupported operand type(s) for +=: 'int' and 'str'"
     ]
    }
   ],
   "source": [
    "# the string in character who many time accures\n",
    "data = \"rajrt\"\n",
    "start=0\n",
    "end= len(data)-1\n",
    "indicator=0\n",
    "while(start<end):\n",
    "    if(data[start]!= data[end]):\n",
    "      indicator+=data\n",
    "if(indicator==0):\n",
    "    print(\"value\",indicator) \n",
    "else:\n",
    "    print(\"total \",indicator)"
   ]
  },
  {
   "cell_type": "code",
   "execution_count": null,
   "id": "acd002bb-ef10-46d0-b8c5-51052c0f7c9f",
   "metadata": {},
   "outputs": [],
   "source": []
  },
  {
   "cell_type": "code",
   "execution_count": 40,
   "id": "55d32417-9c7b-4680-9a01-fd8172a1a1aa",
   "metadata": {},
   "outputs": [
    {
     "name": "stdin",
     "output_type": "stream",
     "text": [
      "enter the number 124123\n"
     ]
    },
    {
     "name": "stdout",
     "output_type": "stream",
     "text": [
      "number is not same agter reverse palindrom  124123 --- reverse is 321421\n"
     ]
    }
   ],
   "source": [
    "#take a number and check whether its a palindrome or not\n",
    "# note: Don't use [::-1]\n",
    "\n",
    "num = int(input(\"enter the number\"))\n",
    "sum =0\n",
    "temp =num\n",
    "while(num>0):\n",
    "    reminder = num%10\n",
    "    sum = sum*10+reminder\n",
    "    num = num//10\n",
    "if(temp==sum):\n",
    "    print(\"the number is palindrom \",temp , \"---\",sum)\n",
    "else:\n",
    "    print(\"number is not same agter reverse palindrom \",temp , \"--- reverse is\",sum)"
   ]
  },
  {
   "cell_type": "code",
   "execution_count": 26,
   "id": "b45e84a6-46e6-4097-aa68-cc75f8fed195",
   "metadata": {},
   "outputs": [
    {
     "name": "stdout",
     "output_type": "stream",
     "text": [
      "Invalid patter\n"
     ]
    }
   ],
   "source": [
    "#first the bracket open and close match , 2. is the brack is checked ,\n",
    "# list is empty \n",
    "openB=[]\n",
    "data={')': '(', '}': '{', ']': '['}\n",
    "indicator=0\n",
    "for char in data:\n",
    "    if char==\"(\":\n",
    "        openB.append(char)\n",
    "    elif(openB):\n",
    "        if(char==\")\" and \"(\"==openB.pop()):\n",
    "           indicator=1\n",
    "    else:\n",
    "        indicator=0\n",
    "if(indicator==0 or len(openB)>0):\n",
    "    print(\"Invalid patter\")\n",
    "else:\n",
    "    print(\"valid patter\")\n"
   ]
  },
  {
   "cell_type": "code",
   "execution_count": 140,
   "id": "2c829fd8-ef1a-4687-aa7f-ba4e12160a39",
   "metadata": {},
   "outputs": [
    {
     "name": "stdout",
     "output_type": "stream",
     "text": [
      "5\n",
      "[4, 3, 2, 1, 5]\n"
     ]
    }
   ],
   "source": [
    "# sort the array using the one loop using \n",
    "arr=[5,4,3,2,1]\n",
    "start=0 # assume the start is the minum elements is first elements=2\n",
    "print(arr[start])\n",
    "while(start<len(arr)-1): # the run the loop the start from the \n",
    "    if(arr[start]>arr[start+1]):\n",
    "        temp=arr[start]\n",
    "        arr[start]=arr[start+1]\n",
    "        arr[start+1]=temp\n",
    "\n",
    "        start-=1\n",
    "    start+=1\n",
    "print(arr)\n",
    "\n",
    "\n",
    "\n",
    "# while i < array.count - 1 {\n",
    "#     if array[i] > array[i + 1] {\n",
    "#         let temp = array[i];\n",
    "#         array[i] = array[i + 1];\n",
    "#         array[i + 1] = temp;\n",
    "#         i = -1;\n",
    "#     }\n",
    "#     i = i + 1;\n",
    "# }\n",
    "# print(array)"
   ]
  },
  {
   "cell_type": "code",
   "execution_count": 5,
   "id": "3175cd28-f54e-4301-b67e-1dfb659450a3",
   "metadata": {},
   "outputs": [
    {
     "name": "stdout",
     "output_type": "stream",
     "text": [
      "8 12 index postion of the elements 4 5\n"
     ]
    }
   ],
   "source": [
    "# two sum problem\n",
    "arr=[1,2,5,7,8,12,43]\n",
    "target=20\n",
    "for i in range(0,len(arr)):\n",
    "    for j in range(i+1,len(arr)):\n",
    "        if (arr[i]+arr[j]==target):\n",
    "            print(arr[i],arr[j],\"index postion of the elements\",i,j)\n",
    "\n",
    "\n",
    "# time complicity is the 0(n^2) becouse the run the first i loop for n time and second j loop is run the n-1 times \n",
    "# space is also used teh 0(n^2) that the store the each steps data"
   ]
  },
  {
   "cell_type": "code",
   "execution_count": 6,
   "id": "74892122-e935-4ab0-91eb-27bddbef6098",
   "metadata": {},
   "outputs": [],
   "source": [
    "def two_sum(nums, target):\n",
    "    seen = {}\n",
    "    for i, num in enumerate(nums):\n",
    "        complement = target - num\n",
    "        if complement in seen:\n",
    "            return [seen[complement], i]\n",
    "        seen[num] = i\n",
    "    return []"
   ]
  },
  {
   "cell_type": "code",
   "execution_count": 25,
   "id": "750451df-065b-44d8-a839-08edb4da81b3",
   "metadata": {},
   "outputs": [
    {
     "name": "stdout",
     "output_type": "stream",
     "text": [
      "2 4  the index postion  1 2\n"
     ]
    }
   ],
   "source": [
    "arr=[3,2,4]\n",
    "target=6\n",
    "for i, num in enumerate(arr):\n",
    "    if arr[i]+arr[i-1]==target:\n",
    "        arr[i],arr[i-1]=arr[i-1],arr[i] # i know about the approach the loop is overlaps then is and swaps the conditons \n",
    "        print(arr[i],arr[i-1],\" the index postion \",i-1,i)\n",
    "    \n",
    "\n",
    "# the time complicity is reduce but the issue the come the index postion is over laped \n"
   ]
  },
  {
   "cell_type": "code",
   "execution_count": 2,
   "id": "b02bf919-eaab-4ba6-bd4a-1c81fbd6b298",
   "metadata": {},
   "outputs": [
    {
     "data": {
      "text/plain": [
       "'\\nA B C \\nD E F\\nG H I\\n\\n'"
      ]
     },
     "execution_count": 2,
     "metadata": {},
     "output_type": "execute_result"
    }
   ],
   "source": [
    "# print this patter\n",
    "'''\n",
    "A B C \n",
    "D E F\n",
    "G H I\n",
    "\n",
    "'''"
   ]
  },
  {
   "cell_type": "code",
   "execution_count": 14,
   "id": "be0af1f6-cd75-4663-b6ea-3b516345394e",
   "metadata": {},
   "outputs": [
    {
     "name": "stdout",
     "output_type": "stream",
     "text": [
      "ABCDEF"
     ]
    }
   ],
   "source": [
    "ch=65\n",
    "for i in range(1,4):\n",
    "    for j in range(1,i+1):\n",
    "        print(chr(ch),end=\"\")\n",
    "        ch= ch+1\n",
    "    print(\"\" ,end =\"\")"
   ]
  },
  {
   "cell_type": "code",
   "execution_count": null,
   "id": "1e5aca3d-b7fc-4cfd-8996-f6b32723c26a",
   "metadata": {},
   "outputs": [],
   "source": []
  },
  {
   "cell_type": "code",
   "execution_count": null,
   "id": "68eeeb4e-7ffc-44d1-aa95-8fea0e175d22",
   "metadata": {},
   "outputs": [],
   "source": [
    " ** 3 sum problems in python **"
   ]
  },
  {
   "cell_type": "code",
   "execution_count": 21,
   "id": "92e3f3d9-6be4-4099-960d-4ebfccc09351",
   "metadata": {},
   "outputs": [
    {
     "name": "stdout",
     "output_type": "stream",
     "text": [
      "-1 -1 2\n",
      "-1 0 1\n",
      "-1 0 1\n"
     ]
    }
   ],
   "source": [
    "nums = [-1,0,1,2,-1,-4]\n",
    "nums.sort()\n",
    "mylist=[]\n",
    "for i in range(0, len(nums)-2):\n",
    "    start=i+1\n",
    "    end=len(nums)-1\n",
    "    while(start<end):\n",
    "        if(nums[i]+nums[start]+nums[end]==0):\n",
    "            print(nums[i],nums[start],nums[end])\n",
    "            # mylist.extend(nums[i],nums[start],nums[end])\n",
    "            start+=1\n",
    "            end-=1\n",
    "        elif(nums[i]+nums[start]+nums[end]>0):\n",
    "            end-=1\n",
    "        else:\n",
    "            start+=1"
   ]
  },
  {
   "cell_type": "code",
   "execution_count": null,
   "id": "2a8d1d2a-113c-4601-ab67-0417f0fe00a1",
   "metadata": {},
   "outputs": [],
   "source": []
  },
  {
   "cell_type": "code",
   "execution_count": 59,
   "id": "63e5581f-bcb2-4ca5-b51e-371e87708872",
   "metadata": {},
   "outputs": [
    {
     "name": "stdout",
     "output_type": "stream",
     "text": [
      "A \n",
      "BB \n",
      "CCC \n",
      "DDDD \n",
      "EEEEE \n"
     ]
    }
   ],
   "source": [
    "\n",
    "for i in range(65,70):\n",
    "    for j  in range(65,i+1):\n",
    "        print(chr(i),end=\"\")\n",
    "        \n",
    "    print(\" \")"
   ]
  },
  {
   "cell_type": "code",
   "execution_count": 81,
   "id": "342f0f36-4af3-4c9a-9405-eea4f7fb892f",
   "metadata": {},
   "outputs": [
    {
     "name": "stdout",
     "output_type": "stream",
     "text": [
      "1 \n",
      "21 \n",
      "321 \n",
      "4321 \n"
     ]
    }
   ],
   "source": [
    "for i in range(0,4):\n",
    "    for  j in range(i+1,0,-1):\n",
    "        print(j,end=\"\")\n",
    "    print(\" \")"
   ]
  },
  {
   "cell_type": "code",
   "execution_count": 127,
   "id": "49c128df-c378-4ae1-94fb-01907bc7a04d",
   "metadata": {},
   "outputs": [
    {
     "name": "stdout",
     "output_type": "stream",
     "text": [
      "1111 \n",
      "-222 \n",
      "--33 \n",
      "---4 \n"
     ]
    }
   ],
   "source": [
    "for i in range(1,5):\n",
    "    for j in range(1,i):\n",
    "        print(\"-\",end=\"\")\n",
    "    for k in range(i,5):\n",
    "        print(i,end=\"\")\n",
    "        \n",
    "    print(\" \")"
   ]
  },
  {
   "cell_type": "code",
   "execution_count": 114,
   "id": "83043390-15b3-4cec-a67d-d27ab57314b9",
   "metadata": {},
   "outputs": [
    {
     "name": "stdout",
     "output_type": "stream",
     "text": [
      "A  \n",
      "B A  \n",
      "C B A  \n",
      "D C B A  \n"
     ]
    }
   ],
   "source": [
    "for i in range(64,68):\n",
    "    for j in range(i+1,64,-1):\n",
    "        print(chr(j),end=\" \")\n",
    "    print(\" \")"
   ]
  },
  {
   "cell_type": "code",
   "execution_count": 83,
   "id": "d2d4266b-445a-4389-84b3-40912627d674",
   "metadata": {},
   "outputs": [
    {
     "name": "stdout",
     "output_type": "stream",
     "text": [
      "1  \n",
      "2 3  \n",
      "4 5 6  \n",
      "7 8 9 10  \n"
     ]
    }
   ],
   "source": [
    "x=1\n",
    "for i in range(1,5):\n",
    "    for j in range(1,i+1):\n",
    "        print(x,end=\" \")\n",
    "        x+=1\n",
    "    print(\" \")"
   ]
  },
  {
   "cell_type": "code",
   "execution_count": 133,
   "id": "c647b156-7994-4e6b-a424-e9ddc7b50663",
   "metadata": {},
   "outputs": [
    {
     "name": "stdout",
     "output_type": "stream",
     "text": [
      "* -  \n",
      "* * - -  \n",
      "* - * - - -  \n",
      "* - - * - - - -  \n"
     ]
    }
   ],
   "source": [
    "# pyramid patterns\n",
    "for i in range(1,5):\n",
    "    for j in range(5,i):\n",
    "        print(\"-\",end=\"\")\n",
    "    for k in range(1,2*i+1):\n",
    "        if(k==i or k==1):\n",
    "            print(\"*\",end=\" \")\n",
    "        else:\n",
    "            print(\"-\",end=\" \")\n",
    "    print(\" \")"
   ]
  },
  {
   "cell_type": "code",
   "execution_count": 180,
   "id": "62662369-38cd-4907-892c-8a1202fd18d1",
   "metadata": {},
   "outputs": [
    {
     "name": "stdout",
     "output_type": "stream",
     "text": [
      "---1  \n",
      "--1 1    \n",
      "-1   1      \n",
      "1     1        \n"
     ]
    }
   ],
   "source": [
    "# pyramid patterns\n",
    "for i in range(1,5):\n",
    "    for j in range(i+1,5):\n",
    "        print(\"-\",end=\"\")\n",
    "    for k in range(1,2*i):\n",
    "        if(k==i or k==1):\n",
    "            print(1,end=\" \")\n",
    "        else:\n",
    "            print(\" \",end=\" \")\n",
    "    print(\" \")"
   ]
  },
  {
   "cell_type": "code",
   "execution_count": 185,
   "id": "02227716-7a25-4357-bb5d-c631b6e885d4",
   "metadata": {},
   "outputs": [
    {
     "name": "stdout",
     "output_type": "stream",
     "text": [
      "lcm is 24\n",
      "hcf 1\n"
     ]
    }
   ],
   "source": [
    "# lcf and hcf\n",
    "a=3\n",
    "b=8\n",
    "if (a>b):\n",
    "    num=a\n",
    "else:\n",
    "    num=b\n",
    "while(True): # if no idea about the codntions\n",
    "    if(num%a==0 and num%b==0):\n",
    "        print(\"lcm is\",num)\n",
    "        break\n",
    "    else:\n",
    "        num+=1\n",
    "hcf=(a*b)//num\n",
    "print(\"hcf\",hcf)"
   ]
  },
  {
   "cell_type": "code",
   "execution_count": 200,
   "id": "2301a22f-8d56-4684-898a-bbddedc35337",
   "metadata": {},
   "outputs": [],
   "source": [
    "mydict={\"A\":65,\"B\":66,\"C\":67}\n",
    "for i in range(0,len(mydict)):\n",
    "    # print(i,mydict[\"A\"])\n",
    "    if i in mydict:\n",
    "        print(i)\n",
    "    "
   ]
  },
  {
   "cell_type": "code",
   "execution_count": null,
   "id": "22d0711d-2bc2-434c-9135-641c0eff092d",
   "metadata": {},
   "outputs": [],
   "source": []
  }
 ],
 "metadata": {
  "kernelspec": {
   "display_name": "Python 3 (ipykernel)",
   "language": "python",
   "name": "python3"
  },
  "language_info": {
   "codemirror_mode": {
    "name": "ipython",
    "version": 3
   },
   "file_extension": ".py",
   "mimetype": "text/x-python",
   "name": "python",
   "nbconvert_exporter": "python",
   "pygments_lexer": "ipython3",
   "version": "3.12.5"
  }
 },
 "nbformat": 4,
 "nbformat_minor": 5
}
